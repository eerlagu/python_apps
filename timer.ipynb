{
 "cells": [
  {
   "cell_type": "code",
   "execution_count": 22,
   "metadata": {},
   "outputs": [],
   "source": [
    "from tkinter import *\n",
    "import winsound\n",
    "import time\n",
    "#create Tk window\n",
    "root = Tk()\n",
    "root.geometry('300x150')\n",
    "#set name of window\n",
    "root.title('Timer')\n",
    "\n",
    "#initalise values from user (spinbox values)\n",
    "item_1 = IntVar()\n",
    "def set_act_time():\n",
    "    item_1.get()\n",
    "\n",
    "item_2 = IntVar()\n",
    "def set_rst_time():\n",
    "    item_2.get()\n",
    "    \n",
    "limit = IntVar()\n",
    "def set_limit():\n",
    "    limit.get()\n",
    "    \n",
    "#item 1 spinbox\n",
    "var1 = StringVar(root)\n",
    "item_1 = Spinbox(root, from_= 0, to = 59, width = 5, textvariable=var1)\n",
    "item_1.grid(row = 1, column = 0)\n",
    "\n",
    "var2 = StringVar(root)\n",
    "item_2 = Spinbox(root, from_= 0, to = 59, width = 5, textvariable=var2)\n",
    "item_2.grid(row = 2, column = 0)\n",
    "\n",
    "var3 = StringVar(root)\n",
    "limit = Spinbox(root, from_= 0, to = 599, width = 5, textvariable=var3)\n",
    "limit.grid(row = 0, column = 0)\n",
    "\n",
    "set_act_time = Button(root, text = 'Set active timer', width = 15, command = set_act_time).grid(row = 1, column = 1)\n",
    "set_rst_time = Button(root, text = 'Set rest timer', width = 15, command = set_rst_time).grid(row = 2, column = 1)\n",
    "set_limit = Button(root, text=\"Set loops\", width = 15, command = set_limit).grid(row = 0, column = 1)\n",
    "\n",
    "def gym_timer(frequency=2000, duration=1000, flag = True):\n",
    "    act_time = item_1.get()\n",
    "    rst_time = item_2.get()\n",
    "    time_limit = limit.get()\n",
    "    for i in range(int(time_limit)):\n",
    "        winsound.Beep(frequency, duration)\n",
    "        time.sleep(int(act_time))\n",
    "        winsound.Beep(frequency, duration)\n",
    "        time.sleep(int(rst_time))\n",
    "        \n",
    "def reset():\n",
    "    var1.set(\"0\")\n",
    "    var2.set(\"0\")\n",
    "    var3.set(\"0\")\n",
    "start_btn = Button(root, text = 'start', width = 10, bg = 'green', command = gym_timer).grid(row = 3, column = 0)\n",
    "stop_btn = Button(root, text = 'stop', width = 15, bg = 'yellow', command = reset).grid(row = 3, column = 1)\n",
    "close_btn = Button(root, text = 'cancel', width = 20, bg = 'red', command = root.destroy).grid(row = 4, column = 0)\n",
    "root.mainloop()"
   ]
  },
  {
   "cell_type": "code",
   "execution_count": null,
   "metadata": {},
   "outputs": [],
   "source": []
  },
  {
   "cell_type": "code",
   "execution_count": null,
   "metadata": {},
   "outputs": [],
   "source": []
  }
 ],
 "metadata": {
  "kernelspec": {
   "display_name": "Python 3",
   "language": "python",
   "name": "python3"
  },
  "language_info": {
   "codemirror_mode": {
    "name": "ipython",
    "version": 3
   },
   "file_extension": ".py",
   "mimetype": "text/x-python",
   "name": "python",
   "nbconvert_exporter": "python",
   "pygments_lexer": "ipython3",
   "version": "3.7.3"
  }
 },
 "nbformat": 4,
 "nbformat_minor": 2
}
